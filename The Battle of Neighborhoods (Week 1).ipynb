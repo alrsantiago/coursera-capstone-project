{
    "nbformat_minor": 1, 
    "cells": [
        {
            "source": "# Capstone Project - The Battle of Neighborhoods (Week 1)", 
            "cell_type": "markdown", 
            "metadata": {
                "collapsed": true
            }
        }, 
        {
            "source": "## Background", 
            "cell_type": "markdown", 
            "metadata": {}
        }, 
        {
            "source": "For the entrepreneur, New York offers a stable environment, a large economy, and access to one of the world's busiest regions. Small business owners in the state don't expect that to change and are largely optimistic about what the future holds.That means plenty of business opportunity, in New York City neighborhood. New Yorkers are, on average, wealthier than their national counterparts as well, meaning more money to spend on the goods and services small businesses have to offer.However, the heightened cost of living can prove difficult to manage. Still, entrepreneurs said that if they can overcome the steep expenses associated with payroll and rent, not to mention a tangled web of taxes and fees, operating in New York is an investment that pays off in the end. Starting a new business in New York City will be a tough work.", 
            "cell_type": "markdown", 
            "metadata": {}
        }, 
        {
            "source": "## Problem", 
            "cell_type": "markdown", 
            "metadata": {}
        }, 
        {
            "source": "One of the biggest challenges for any New York City business is going to be the wide array of competition. In a city of eight million plus, there is going to be competition around every corner. The New York City market has become overly saturated in almost every single industry from doctor practices to restaurants. Businesses now have to go beyond just serving their customers and focus on marketing and reputation in order to improve customer acquisition and grow their businesses. ", 
            "cell_type": "markdown", 
            "metadata": {}
        }, 
        {
            "source": "## Solving the Problem Using Data Science", 
            "cell_type": "markdown", 
            "metadata": {}
        }, 
        {
            "source": "To solve the existing problems, we will recommend to new business by collecting location data from Foursquare and apply data science techniques and tools. We are going to cluster New York neighborhoods in order to find existing business establishments and venues in order to scope out the competition and create a new trendy business", 
            "cell_type": "markdown", 
            "metadata": {}
        }, 
        {
            "source": "## Data section", 
            "cell_type": "markdown", 
            "metadata": {}
        }, 
        {
            "source": "We extracted the ZIP Code Definitions of New York City Neighborhoods which is available from https://www.health.ny.gov/statistics/cancer/registry/appendix/neighborhoods.htm. To explore and target recommended locations across different venues according to the presence of amenities and essential facilities, we will access data through FourSquare API interface and arrange them as a dataframe for visualization. By merging data on New York City Zip Codes by neighborhood and data on venues and essential facilities surrounding such properties from FourSquare API interface.", 
            "cell_type": "markdown", 
            "metadata": {}
        }, 
        {
            "source": "## Methodology", 
            "cell_type": "markdown", 
            "metadata": {}
        }, 
        {
            "source": "Methodology section\n1. Collect Data\n2. Explore and Understand Data\n3. Data Preparation and Preprocessing \n4. Modeling", 
            "cell_type": "markdown", 
            "metadata": {}
        }, 
        {
            "execution_count": null, 
            "cell_type": "code", 
            "metadata": {}, 
            "outputs": [], 
            "source": ""
        }
    ], 
    "metadata": {
        "kernelspec": {
            "display_name": "Python 3.5", 
            "name": "python3", 
            "language": "python"
        }, 
        "language_info": {
            "mimetype": "text/x-python", 
            "nbconvert_exporter": "python", 
            "version": "3.5.5", 
            "name": "python", 
            "file_extension": ".py", 
            "pygments_lexer": "ipython3", 
            "codemirror_mode": {
                "version": 3, 
                "name": "ipython"
            }
        }
    }, 
    "nbformat": 4
}